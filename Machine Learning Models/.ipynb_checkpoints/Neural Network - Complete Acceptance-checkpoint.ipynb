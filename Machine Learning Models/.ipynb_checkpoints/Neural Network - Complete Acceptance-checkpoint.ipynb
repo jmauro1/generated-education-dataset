{
 "cells": [
  {
   "cell_type": "code",
   "execution_count": 1,
   "metadata": {},
   "outputs": [],
   "source": [
    "import torch\n",
    "import torch.nn as nn\n",
    "import torch.nn.functional as F\n",
    "import torch.optim as optim\n",
    "import pandas as pd\n",
    "import numpy as np\n",
    "from random import randint\n",
    "import time\n",
    "import utils"
   ]
  },
  {
   "cell_type": "code",
   "execution_count": 2,
   "metadata": {},
   "outputs": [],
   "source": [
    "train_data = pd.read_pickle(\"Student Training Data\")\n",
    "train_label = np.load(\"Complete Logistic Acceptance Student Training Label.npy\")\n",
    "test_data = pd.read_pickle(\"Student Testing Data\")\n",
    "test_label = np.load(\"Complete Logistic Acceptance Student Test Label.npy\")"
   ]
  },
  {
   "cell_type": "code",
   "execution_count": 3,
   "metadata": {},
   "outputs": [],
   "source": [
    "train_data = train_data.astype(np.double)\n",
    "train_label = train_label.astype(np.double)\n",
    "test_data = test_data.astype(np.double)\n",
    "test_label = test_label.astype(np.double)"
   ]
  },
  {
   "cell_type": "code",
   "execution_count": 4,
   "metadata": {},
   "outputs": [],
   "source": [
    "train_data = torch.FloatTensor(train_data.values)\n",
    "train_label = torch.LongTensor(train_label)\n",
    "test_data = torch.FloatTensor(test_data.values)\n",
    "test_label = torch.LongTensor(test_label)\n"
   ]
  },
  {
   "cell_type": "code",
   "execution_count": 5,
   "metadata": {},
   "outputs": [
    {
     "data": {
      "text/plain": [
       "torch.Size([40000, 9])"
      ]
     },
     "execution_count": 5,
     "metadata": {},
     "output_type": "execute_result"
    }
   ],
   "source": [
    "train_data.size()"
   ]
  },
  {
   "cell_type": "code",
   "execution_count": 6,
   "metadata": {},
   "outputs": [
    {
     "data": {
      "text/plain": [
       "torch.Size([10000, 9])"
      ]
     },
     "execution_count": 6,
     "metadata": {},
     "output_type": "execute_result"
    }
   ],
   "source": [
    "test_data.size()"
   ]
  },
  {
   "cell_type": "code",
   "execution_count": 7,
   "metadata": {},
   "outputs": [
    {
     "name": "stdout",
     "output_type": "stream",
     "text": [
      "cpu\n"
     ]
    }
   ],
   "source": [
    "#device= torch.device(\"cuda\")\n",
    "device= torch.device(\"cpu\")\n",
    "print(device)"
   ]
  },
  {
   "cell_type": "markdown",
   "metadata": {},
   "source": [
    "### Download the TRAINING SET (data+labels)"
   ]
  },
  {
   "cell_type": "markdown",
   "metadata": {},
   "source": [
    "### Create a one layer neural net WITHOUT BIAS using pytorch. As usual, the weights are initialized to be small random numbers. Overwrite these weights with the matrix W containing the simple templates. Remember that mod.weight is a parameter object, not a tensor. To access the tensor inside the parameter you need to do mod.weight.data."
   ]
  },
  {
   "cell_type": "code",
   "execution_count": 8,
   "metadata": {},
   "outputs": [],
   "source": [
    "class three_layer_net(nn.Module):\n",
    "\n",
    "    def __init__(self, input_size, hidden_size1, hidden_size2, output_size):\n",
    "        super().__init__()\n",
    "        \n",
    "        self.layer1 = nn.Linear( input_size, hidden_size1, bias=True)\n",
    "        self.layer2 = nn.Linear( hidden_size1, hidden_size2, bias=True)\n",
    "        self.layer3 = nn.Linear( hidden_size2, output_size, bias=True)\n",
    "    \n",
    "        \n",
    "    def forward(self, x):\n",
    "        \n",
    "        x1       = self.layer1(x)\n",
    "        x1_hat   = F.relu(x1)\n",
    "        x2       = self.layer2(x1_hat)\n",
    "        x2_hat   = F.relu(x2)\n",
    "        scores   = self.layer3(x2_hat)\n",
    "        \n",
    "        return scores"
   ]
  },
  {
   "cell_type": "code",
   "execution_count": 9,
   "metadata": {},
   "outputs": [
    {
     "name": "stdout",
     "output_type": "stream",
     "text": [
      "three_layer_net(\n",
      "  (layer1): Linear(in_features=9, out_features=500, bias=True)\n",
      "  (layer2): Linear(in_features=500, out_features=500, bias=True)\n",
      "  (layer3): Linear(in_features=500, out_features=2, bias=True)\n",
      ")\n"
     ]
    }
   ],
   "source": [
    "net= three_layer_net(9,500,500, 2)\n",
    "print(net)"
   ]
  },
  {
   "cell_type": "code",
   "execution_count": 10,
   "metadata": {},
   "outputs": [
    {
     "name": "stdout",
     "output_type": "stream",
     "text": [
      "tensor(30675.6348)\n"
     ]
    }
   ],
   "source": [
    "mean= train_data.mean()\n",
    "\n",
    "print(mean)"
   ]
  },
  {
   "cell_type": "code",
   "execution_count": 11,
   "metadata": {},
   "outputs": [
    {
     "name": "stdout",
     "output_type": "stream",
     "text": [
      "tensor(95271.2266)\n"
     ]
    }
   ],
   "source": [
    "std= train_data.std()\n",
    "\n",
    "print(std)"
   ]
  },
  {
   "cell_type": "code",
   "execution_count": 12,
   "metadata": {},
   "outputs": [],
   "source": [
    "net = net.to(device)\n",
    "mean = mean.to(device)\n",
    "std = std.to(device)"
   ]
  },
  {
   "cell_type": "code",
   "execution_count": 13,
   "metadata": {},
   "outputs": [],
   "source": [
    "criterion = nn.CrossEntropyLoss()\n",
    "optimizer=torch.optim.SGD( net.parameters() , lr=0.01 )\n",
    "bs= 200"
   ]
  },
  {
   "cell_type": "code",
   "execution_count": 14,
   "metadata": {},
   "outputs": [],
   "source": [
    "def eval_on_test_set():\n",
    "\n",
    "    running_error=0\n",
    "    num_batches=0\n",
    "\n",
    "    with torch.no_grad():\n",
    "        \n",
    "        for i in range(0,10000,bs):\n",
    "\n",
    "            # extract the minibatch\n",
    "            minibatch_data =  test_data[i:i+bs]\n",
    "            minibatch_label= test_label[i:i+bs]\n",
    "\n",
    "            # send them to the gpu\n",
    "            minibatch_data=minibatch_data.to(device)\n",
    "            minibatch_label=minibatch_label.to(device)\n",
    "\n",
    "            # reshape the minibatch\n",
    "            inputs = minibatch_data.view(-1,9)\n",
    "            \n",
    "            # subtract the mean and divide by the std\n",
    "            inputs= (inputs-mean)/std\n",
    "\n",
    "            # feed it to the network\n",
    "            scores=net( inputs ) \n",
    "\n",
    "            # compute the error made on this batch\n",
    "            error = utils.get_error( scores , minibatch_label)\n",
    "\n",
    "            # add it to the running error\n",
    "            running_error += error.item()\n",
    "\n",
    "            num_batches+=1\n",
    "\n",
    "\n",
    "    # compute error rate on the full test set\n",
    "    total_error = running_error/num_batches\n",
    "\n",
    "    print( 'error rate on test set =', total_error*100 ,'percent')"
   ]
  },
  {
   "cell_type": "code",
   "execution_count": 15,
   "metadata": {},
   "outputs": [
    {
     "name": "stdout",
     "output_type": "stream",
     "text": [
      "epoch= 0 \t time= 1.2482149600982666 \t loss= 0.3469964513927698 \t error= 19.505000084638596 percent\n",
      "error rate on test set = 13.550000071525572 percent\n",
      " \n",
      "epoch= 1 \t time= 2.4650685787200928 \t loss= 0.21218797691166402 \t error= 9.572500079870224 percent\n",
      "error rate on test set = 6.090000152587891 percent\n",
      " \n",
      "epoch= 2 \t time= 3.6094977855682373 \t loss= 0.14228351432830094 \t error= 4.585000455379486 percent\n",
      "error rate on test set = 3.4800000190734863 percent\n",
      " \n",
      "epoch= 3 \t time= 4.729535818099976 \t loss= 0.10785061586648226 \t error= 2.6849991977214813 percent\n",
      "error rate on test set = 1.8099985122680664 percent\n",
      " \n",
      "epoch= 4 \t time= 5.872966766357422 \t loss= 0.08851229010149836 \t error= 1.7799988985061646 percent\n",
      "error rate on test set = 1.4999988079071045 percent\n",
      " \n",
      "epoch= 5 \t time= 7.0872015953063965 \t loss= 0.07614184848964214 \t error= 1.4124988913536072 percent\n",
      "error rate on test set = 1.0599991083145142 percent\n",
      " \n",
      "epoch= 6 \t time= 8.181250810623169 \t loss= 0.06749425709247589 \t error= 1.0399990677833557 percent\n",
      "error rate on test set = 0.6399993896484375 percent\n",
      " \n",
      "epoch= 7 \t time= 9.422992706298828 \t loss= 0.06115396909415722 \t error= 0.8674992024898529 percent\n",
      "error rate on test set = 0.9799991846084594 percent\n",
      " \n",
      "epoch= 8 \t time= 10.536861896514893 \t loss= 0.0561569944396615 \t error= 0.717499315738678 percent\n",
      "error rate on test set = 0.6399993896484375 percent\n",
      " \n"
     ]
    }
   ],
   "source": [
    "start=time.time()\n",
    "\n",
    "for epoch in range(9):\n",
    "    \n",
    "    running_loss=0\n",
    "    running_error=0\n",
    "    num_batches=0\n",
    "    \n",
    "    shuffled_indices=torch.randperm(40000)\n",
    " \n",
    "    for count in range(0,40000,bs):\n",
    "    \n",
    "        # Set the gradients to zeros\n",
    "        optimizer.zero_grad()\n",
    "        \n",
    "        # create a minibatch       \n",
    "        indices=shuffled_indices[count:count+bs]\n",
    "        minibatch_data =  train_data[indices]\n",
    "        minibatch_label=  train_label[indices]\n",
    "        \n",
    "        # send them to the gpu\n",
    "        minibatch_data=minibatch_data.to(device)\n",
    "        minibatch_label=minibatch_label.to(device)\n",
    "        \n",
    "        # reshape the minibatch\n",
    "        inputs = minibatch_data.view(bs,9)\n",
    "        \n",
    "        # subtract the mean and divide by the std\n",
    "        inputs= (inputs-mean)/std\n",
    "\n",
    "        # tell Pytorch to start tracking all operations that will be done on \"inputs\"\n",
    "        inputs.requires_grad_()\n",
    "\n",
    "        # forward the minibatch through the net \n",
    "        scores=net( inputs ) \n",
    "\n",
    "        # Compute the average of the losses of the data points in the minibatch\n",
    "        loss =  criterion( scores , minibatch_label) \n",
    "        \n",
    "        # backward pass to compute dL/dU, dL/dV and dL/dW   \n",
    "        loss.backward()\n",
    "\n",
    "        # do one step of stochastic gradient descent: U=U-lr(dL/dU), V=V-lr(dL/dU), ...\n",
    "        optimizer.step()\n",
    "        \n",
    "        \n",
    "\n",
    "        # START COMPUTING STATS\n",
    "        \n",
    "        num_batches+=1\n",
    "        \n",
    "        with torch.no_grad():\n",
    "            \n",
    "            running_loss += loss.item()\n",
    "\n",
    "            error = utils.get_error( scores , minibatch_label)\n",
    "            running_error += error.item()        \n",
    "        \n",
    "       \n",
    "    # compute stats for the full training set\n",
    "    total_loss = running_loss/num_batches\n",
    "    total_error = running_error/num_batches\n",
    "    elapsed = time.time()-start\n",
    "    \n",
    "    if epoch%1 == 0:\n",
    "        print('epoch=',epoch, '\\t time=', elapsed, '\\t loss=', total_loss , '\\t error=', total_error*100 ,'percent')\n",
    "        eval_on_test_set() \n",
    "        print(' ')"
   ]
  },
  {
   "cell_type": "code",
   "execution_count": null,
   "metadata": {},
   "outputs": [],
   "source": []
  },
  {
   "cell_type": "code",
   "execution_count": null,
   "metadata": {},
   "outputs": [],
   "source": []
  }
 ],
 "metadata": {
  "kernelspec": {
   "display_name": "Python 3",
   "language": "python",
   "name": "python3"
  },
  "language_info": {
   "codemirror_mode": {
    "name": "ipython",
    "version": 3
   },
   "file_extension": ".py",
   "mimetype": "text/x-python",
   "name": "python",
   "nbconvert_exporter": "python",
   "pygments_lexer": "ipython3",
   "version": "3.7.4"
  }
 },
 "nbformat": 4,
 "nbformat_minor": 2
}
