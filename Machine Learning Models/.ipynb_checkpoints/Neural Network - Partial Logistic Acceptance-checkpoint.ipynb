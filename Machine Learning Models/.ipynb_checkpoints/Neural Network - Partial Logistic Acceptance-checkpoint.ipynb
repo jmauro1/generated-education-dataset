{
 "cells": [
  {
   "cell_type": "code",
   "execution_count": 1,
   "metadata": {},
   "outputs": [],
   "source": [
    "import torch\n",
    "import torch.nn as nn\n",
    "import torch.nn.functional as F\n",
    "import torch.optim as optim\n",
    "import pandas as pd\n",
    "import numpy as np\n",
    "from random import randint\n",
    "import time\n",
    "import utils"
   ]
  },
  {
   "cell_type": "code",
   "execution_count": 2,
   "metadata": {},
   "outputs": [],
   "source": [
    "train_data = pd.read_pickle(\"Student Training Data\")\n",
    "train_label = np.load(\"Partial Logistic Acceptance Student Training Label.npy\")\n",
    "test_data = pd.read_pickle(\"Student Testing Data\")\n",
    "test_label = np.load(\"Partial Logistic Acceptance Student Test Label.npy\")"
   ]
  },
  {
   "cell_type": "code",
   "execution_count": 3,
   "metadata": {},
   "outputs": [],
   "source": [
    "train_data = train_data.astype(np.double)\n",
    "train_label = train_label.astype(np.double)\n",
    "test_data = test_data.astype(np.double)\n",
    "test_label = test_label.astype(np.double)"
   ]
  },
  {
   "cell_type": "code",
   "execution_count": 4,
   "metadata": {},
   "outputs": [],
   "source": [
    "train_data = torch.FloatTensor(train_data.values)\n",
    "train_label = torch.LongTensor(train_label)\n",
    "test_data = torch.FloatTensor(test_data.values)\n",
    "test_label = torch.LongTensor(test_label)\n"
   ]
  },
  {
   "cell_type": "code",
   "execution_count": 5,
   "metadata": {},
   "outputs": [
    {
     "data": {
      "text/plain": [
       "torch.Size([40000, 9])"
      ]
     },
     "execution_count": 5,
     "metadata": {},
     "output_type": "execute_result"
    }
   ],
   "source": [
    "train_data.size()"
   ]
  },
  {
   "cell_type": "code",
   "execution_count": 6,
   "metadata": {},
   "outputs": [
    {
     "data": {
      "text/plain": [
       "torch.Size([10000, 9])"
      ]
     },
     "execution_count": 6,
     "metadata": {},
     "output_type": "execute_result"
    }
   ],
   "source": [
    "test_data.size()"
   ]
  },
  {
   "cell_type": "code",
   "execution_count": 7,
   "metadata": {},
   "outputs": [
    {
     "name": "stdout",
     "output_type": "stream",
     "text": [
      "cpu\n"
     ]
    }
   ],
   "source": [
    "#device= torch.device(\"cuda\")\n",
    "device= torch.device(\"cpu\")\n",
    "print(device)"
   ]
  },
  {
   "cell_type": "markdown",
   "metadata": {},
   "source": [
    "### Download the TRAINING SET (data+labels)"
   ]
  },
  {
   "cell_type": "markdown",
   "metadata": {},
   "source": [
    "### Create a one layer neural net WITHOUT BIAS using pytorch. As usual, the weights are initialized to be small random numbers. Overwrite these weights with the matrix W containing the simple templates. Remember that mod.weight is a parameter object, not a tensor. To access the tensor inside the parameter you need to do mod.weight.data."
   ]
  },
  {
   "cell_type": "code",
   "execution_count": 8,
   "metadata": {},
   "outputs": [],
   "source": [
    "class three_layer_net(nn.Module):\n",
    "\n",
    "    def __init__(self, input_size, hidden_size1, hidden_size2, output_size):\n",
    "        super().__init__()\n",
    "        \n",
    "        self.layer1 = nn.Linear( input_size, hidden_size1, bias=True)\n",
    "        self.layer2 = nn.Linear( hidden_size1, hidden_size2, bias=True)\n",
    "        self.layer3 = nn.Linear( hidden_size2, output_size, bias=True)\n",
    "    \n",
    "        \n",
    "    def forward(self, x):\n",
    "        \n",
    "        x1       = self.layer1(x)\n",
    "        x1_hat   = F.relu(x1)\n",
    "        x2       = self.layer2(x1_hat)\n",
    "        x2_hat   = F.relu(x2)\n",
    "        scores   = self.layer3(x2_hat)\n",
    "        \n",
    "        return scores"
   ]
  },
  {
   "cell_type": "code",
   "execution_count": 9,
   "metadata": {},
   "outputs": [
    {
     "name": "stdout",
     "output_type": "stream",
     "text": [
      "three_layer_net(\n",
      "  (layer1): Linear(in_features=9, out_features=500, bias=True)\n",
      "  (layer2): Linear(in_features=500, out_features=500, bias=True)\n",
      "  (layer3): Linear(in_features=500, out_features=2, bias=True)\n",
      ")\n"
     ]
    }
   ],
   "source": [
    "net= three_layer_net(9,500,500, 2)\n",
    "print(net)"
   ]
  },
  {
   "cell_type": "code",
   "execution_count": 10,
   "metadata": {},
   "outputs": [
    {
     "name": "stdout",
     "output_type": "stream",
     "text": [
      "tensor(8371.0430)\n"
     ]
    }
   ],
   "source": [
    "mean= train_data.mean()\n",
    "\n",
    "print(mean)"
   ]
  },
  {
   "cell_type": "code",
   "execution_count": 11,
   "metadata": {},
   "outputs": [
    {
     "name": "stdout",
     "output_type": "stream",
     "text": [
      "tensor(46429.7305)\n"
     ]
    }
   ],
   "source": [
    "std= train_data.std()\n",
    "\n",
    "print(std)"
   ]
  },
  {
   "cell_type": "code",
   "execution_count": 12,
   "metadata": {},
   "outputs": [],
   "source": [
    "net = net.to(device)\n",
    "mean = mean.to(device)\n",
    "std = std.to(device)"
   ]
  },
  {
   "cell_type": "code",
   "execution_count": 13,
   "metadata": {},
   "outputs": [],
   "source": [
    "criterion = nn.CrossEntropyLoss()\n",
    "optimizer=torch.optim.SGD( net.parameters() , lr=0.01 )\n",
    "bs= 200"
   ]
  },
  {
   "cell_type": "code",
   "execution_count": 14,
   "metadata": {},
   "outputs": [],
   "source": [
    "def eval_on_test_set():\n",
    "\n",
    "    running_error=0\n",
    "    num_batches=0\n",
    "\n",
    "    with torch.no_grad():\n",
    "        \n",
    "        for i in range(0,10000,bs):\n",
    "\n",
    "            # extract the minibatch\n",
    "            minibatch_data =  test_data[i:i+bs]\n",
    "            minibatch_label= test_label[i:i+bs]\n",
    "\n",
    "            # send them to the gpu\n",
    "            minibatch_data=minibatch_data.to(device)\n",
    "            minibatch_label=minibatch_label.to(device)\n",
    "\n",
    "            # reshape the minibatch\n",
    "            inputs = minibatch_data.view(-1,9)\n",
    "            \n",
    "            # subtract the mean and divide by the std\n",
    "            inputs= (inputs-mean)/std\n",
    "\n",
    "            # feed it to the network\n",
    "            scores=net( inputs ) \n",
    "\n",
    "            # compute the error made on this batch\n",
    "            error = utils.get_error( scores , minibatch_label)\n",
    "\n",
    "            # add it to the running error\n",
    "            running_error += error.item()\n",
    "\n",
    "            num_batches+=1\n",
    "\n",
    "\n",
    "    # compute error rate on the full test set\n",
    "    total_error = running_error/num_batches\n",
    "\n",
    "    print( 'error rate on test set =', total_error*100 ,'percent')"
   ]
  },
  {
   "cell_type": "code",
   "execution_count": 15,
   "metadata": {},
   "outputs": [
    {
     "name": "stdout",
     "output_type": "stream",
     "text": [
      "epoch= 0 \t time= 1.265125036239624 \t loss= 0.2111856495216489 \t error= 5.425000041723251 percent\n",
      "error rate on test set = 3.680000424385071 percent\n",
      " \n",
      "epoch= 1 \t time= 2.536781072616577 \t loss= 0.10507767787203193 \t error= 3.4650001227855687 percent\n",
      "error rate on test set = 3.539999961853027 percent\n",
      " \n",
      "epoch= 2 \t time= 3.6978728771209717 \t loss= 0.0896768094971776 \t error= 3.4124997258186336 percent\n",
      "error rate on test set = 3.459999680519104 percent\n",
      " \n",
      "epoch= 3 \t time= 4.886729001998901 \t loss= 0.08432191217318177 \t error= 3.442499876022339 percent\n",
      "error rate on test set = 3.4699997901916504 percent\n",
      " \n",
      "epoch= 4 \t time= 6.085116863250732 \t loss= 0.0819368288293481 \t error= 3.417499721050263 percent\n",
      "error rate on test set = 3.459999680519104 percent\n",
      " \n",
      "epoch= 5 \t time= 7.34667706489563 \t loss= 0.08075507368892432 \t error= 3.4174997508525844 percent\n",
      "error rate on test set = 3.4699997901916504 percent\n",
      " \n",
      "epoch= 6 \t time= 8.512911081314087 \t loss= 0.08009386810474098 \t error= 3.429999887943268 percent\n",
      "error rate on test set = 3.4399996995925908 percent\n",
      " \n",
      "epoch= 7 \t time= 9.734644889831543 \t loss= 0.07974110595881939 \t error= 3.4124999940395355 percent\n",
      "error rate on test set = 3.419999599456787 percent\n",
      " \n",
      "epoch= 8 \t time= 10.960751056671143 \t loss= 0.0795198042690754 \t error= 3.434999734163284 percent\n",
      "error rate on test set = 3.4099996089935303 percent\n",
      " \n"
     ]
    }
   ],
   "source": [
    "start=time.time()\n",
    "\n",
    "for epoch in range(9):\n",
    "    \n",
    "    running_loss=0\n",
    "    running_error=0\n",
    "    num_batches=0\n",
    "    \n",
    "    shuffled_indices=torch.randperm(40000)\n",
    " \n",
    "    for count in range(0,40000,bs):\n",
    "    \n",
    "        # Set the gradients to zeros\n",
    "        optimizer.zero_grad()\n",
    "        \n",
    "        # create a minibatch       \n",
    "        indices=shuffled_indices[count:count+bs]\n",
    "        minibatch_data =  train_data[indices]\n",
    "        minibatch_label=  train_label[indices]\n",
    "        \n",
    "        # send them to the gpu\n",
    "        minibatch_data=minibatch_data.to(device)\n",
    "        minibatch_label=minibatch_label.to(device)\n",
    "        \n",
    "        # reshape the minibatch\n",
    "        inputs = minibatch_data.view(bs,9)\n",
    "        \n",
    "        # subtract the mean and divide by the std\n",
    "        inputs= (inputs-mean)/std\n",
    "\n",
    "        # tell Pytorch to start tracking all operations that will be done on \"inputs\"\n",
    "        inputs.requires_grad_()\n",
    "\n",
    "        # forward the minibatch through the net \n",
    "        scores=net( inputs ) \n",
    "\n",
    "        # Compute the average of the losses of the data points in the minibatch\n",
    "        loss =  criterion( scores , minibatch_label) \n",
    "        \n",
    "        # backward pass to compute dL/dU, dL/dV and dL/dW   \n",
    "        loss.backward()\n",
    "\n",
    "        # do one step of stochastic gradient descent: U=U-lr(dL/dU), V=V-lr(dL/dU), ...\n",
    "        optimizer.step()\n",
    "        \n",
    "        \n",
    "\n",
    "        # START COMPUTING STATS\n",
    "        \n",
    "        num_batches+=1\n",
    "        \n",
    "        with torch.no_grad():\n",
    "            \n",
    "            running_loss += loss.item()\n",
    "\n",
    "            error = utils.get_error( scores , minibatch_label)\n",
    "            running_error += error.item()        \n",
    "        \n",
    "       \n",
    "    # compute stats for the full training set\n",
    "    total_loss = running_loss/num_batches\n",
    "    total_error = running_error/num_batches\n",
    "    elapsed = time.time()-start\n",
    "    \n",
    "    if epoch%1 == 0:\n",
    "        print('epoch=',epoch, '\\t time=', elapsed, '\\t loss=', total_loss , '\\t error=', total_error*100 ,'percent')\n",
    "        eval_on_test_set() \n",
    "        print(' ')"
   ]
  },
  {
   "cell_type": "code",
   "execution_count": null,
   "metadata": {},
   "outputs": [],
   "source": []
  },
  {
   "cell_type": "code",
   "execution_count": null,
   "metadata": {},
   "outputs": [],
   "source": []
  }
 ],
 "metadata": {
  "kernelspec": {
   "display_name": "Python 3",
   "language": "python",
   "name": "python3"
  },
  "language_info": {
   "codemirror_mode": {
    "name": "ipython",
    "version": 3
   },
   "file_extension": ".py",
   "mimetype": "text/x-python",
   "name": "python",
   "nbconvert_exporter": "python",
   "pygments_lexer": "ipython3",
   "version": "3.7.4"
  }
 },
 "nbformat": 4,
 "nbformat_minor": 2
}
