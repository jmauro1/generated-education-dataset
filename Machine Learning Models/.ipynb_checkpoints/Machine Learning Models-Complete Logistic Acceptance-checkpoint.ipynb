{
 "cells": [
  {
   "cell_type": "code",
   "execution_count": 1,
   "metadata": {},
   "outputs": [],
   "source": [
    "import numpy as np\n",
    "import pandas as pd\n",
    "import torch\n",
    "from sklearn.model_selection import train_test_split\n",
    "import xgboost as xgb"
   ]
  },
  {
   "cell_type": "code",
   "execution_count": 2,
   "metadata": {},
   "outputs": [],
   "source": [
    "train_data = pd.read_pickle(\"Student Training Data\")\n",
    "train_label = np.load(\"Complete Logistic Acceptance Student Training Label.npy\")\n",
    "test_data = pd.read_pickle(\"Student Testing Data\")\n",
    "test_label = np.load(\"Complete Logistic Acceptance Student Test Label.npy\")"
   ]
  },
  {
   "cell_type": "code",
   "execution_count": 3,
   "metadata": {},
   "outputs": [],
   "source": [
    "train_data = train_data.astype(np.double)\n",
    "train_label = train_label.astype(np.double)\n",
    "test_data = test_data.astype(np.double)\n",
    "test_label = test_label.astype(np.double)"
   ]
  },
  {
   "cell_type": "code",
   "execution_count": 4,
   "metadata": {},
   "outputs": [],
   "source": [
    "train_data = torch.FloatTensor(train_data.values)\n",
    "train_label = torch.LongTensor(train_label)\n",
    "test_data = torch.FloatTensor(test_data.values)\n",
    "test_label = torch.LongTensor(test_label)"
   ]
  },
  {
   "cell_type": "markdown",
   "metadata": {},
   "source": [
    "Support Vector Machine"
   ]
  },
  {
   "cell_type": "code",
   "execution_count": 17,
   "metadata": {},
   "outputs": [
    {
     "name": "stdout",
     "output_type": "stream",
     "text": [
      "Train model\n",
      "Compute predictions\n",
      "Accuracy:  0.9168\n"
     ]
    },
    {
     "name": "stderr",
     "output_type": "stream",
     "text": [
      "/Users/jackmauro/opt/anaconda3/lib/python3.7/site-packages/sklearn/svm/_base.py:1208: ConvergenceWarning: Liblinear failed to converge, increase the number of iterations.\n",
      "  ConvergenceWarning,\n"
     ]
    }
   ],
   "source": [
    "from sklearn.svm import LinearSVC\n",
    "from sklearn.metrics import accuracy_score\n",
    "\n",
    "#images = train_data\n",
    "#labels = train_label\n",
    "\n",
    "clf = LinearSVC(max_iter = 50000)\n",
    "\n",
    "# Train on the first 10000 images:\n",
    "#train_x = images\n",
    "#train_y = labels[:10000]\n",
    "\n",
    "\n",
    "print(\"Train model\")\n",
    "clf.fit(train_data, train_label)\n",
    "\n",
    "# Test on the next 1000 images:\n",
    "#test_x = images[10000:11000]\n",
    "#expected = labels[10000:11000].tolist()\n",
    "\n",
    "print(\"Compute predictions\")\n",
    "predicted = clf.predict(test_data)\n",
    "\n",
    "print(\"Accuracy: \", accuracy_score(test_label, predicted))"
   ]
  },
  {
   "cell_type": "markdown",
   "metadata": {},
   "source": [
    "KNN"
   ]
  },
  {
   "cell_type": "code",
   "execution_count": 6,
   "metadata": {},
   "outputs": [
    {
     "name": "stdout",
     "output_type": "stream",
     "text": [
      "Train model\n",
      "Compute predictions\n",
      "Accuracy:  0.9126\n"
     ]
    }
   ],
   "source": [
    "from sklearn.neighbors import KNeighborsClassifier\n",
    "from sklearn.metrics import accuracy_score\n",
    "\n",
    "clf = KNeighborsClassifier()\n",
    "\n",
    "# Train on the first 10000 images:\n",
    "#train_x = images[:10000]\n",
    "#train_y = labels[:10000]\n",
    "\n",
    "print(\"Train model\")\n",
    "clf.fit(train_data, train_label)\n",
    "\n",
    "# Test on the next 100 images:\n",
    "#test_x = images[10000:10100]\n",
    "#expected = labels[10000:10100].tolist()\n",
    "\n",
    "print(\"Compute predictions\")\n",
    "predicted = clf.predict(test_data)\n",
    "\n",
    "print(\"Accuracy: \", accuracy_score(test_label, predicted))\n",
    "\n"
   ]
  },
  {
   "cell_type": "markdown",
   "metadata": {},
   "source": [
    "Random Forest"
   ]
  },
  {
   "cell_type": "code",
   "execution_count": 7,
   "metadata": {},
   "outputs": [
    {
     "name": "stdout",
     "output_type": "stream",
     "text": [
      "Train model\n",
      "Compute predictions\n",
      "Accuracy:  0.9183\n"
     ]
    }
   ],
   "source": [
    "from sklearn.ensemble import RandomForestClassifier\n",
    "from sklearn.metrics import accuracy_score\n",
    "\n",
    "clf = RandomForestClassifier(n_estimators=100)\n",
    "\n",
    "# Train on the first 10000 images:\n",
    "#train_x = images[:10000]\n",
    "#train_y = labels[:10000]\n",
    "\n",
    "print(\"Train model\")\n",
    "clf.fit(train_data, train_label)\n",
    "\n",
    "# Test on the next 1000 images:\n",
    "#test_x = images[10000:11000]\n",
    "#expected = labels[10000:11000].tolist()\n",
    "\n",
    "print(\"Compute predictions\")\n",
    "predicted = clf.predict(test_data)\n",
    "\n",
    "print(\"Accuracy: \", accuracy_score(test_label, predicted))\n",
    "\n"
   ]
  },
  {
   "cell_type": "code",
   "execution_count": 8,
   "metadata": {},
   "outputs": [],
   "source": [
    "train_data1 = np.array(train_data)\n",
    "#train_data1"
   ]
  },
  {
   "cell_type": "code",
   "execution_count": 9,
   "metadata": {},
   "outputs": [],
   "source": [
    "train_label1 = np.array(train_label)\n",
    "#train_label1"
   ]
  },
  {
   "cell_type": "code",
   "execution_count": 10,
   "metadata": {},
   "outputs": [],
   "source": [
    "train_data2, valid_data, train_label2, valid_label = train_test_split(train_data1, train_label1, test_size=0.1)"
   ]
  },
  {
   "cell_type": "code",
   "execution_count": 11,
   "metadata": {},
   "outputs": [
    {
     "name": "stdout",
     "output_type": "stream",
     "text": [
      "[0]\ttrain-merror:0.08008\tvalidation-merror:0.08525\n",
      "[1]\ttrain-merror:0.08008\tvalidation-merror:0.08525\n",
      "[2]\ttrain-merror:0.08008\tvalidation-merror:0.08525\n",
      "[3]\ttrain-merror:0.08008\tvalidation-merror:0.08525\n",
      "[4]\ttrain-merror:0.08008\tvalidation-merror:0.08525\n",
      "[5]\ttrain-merror:0.08008\tvalidation-merror:0.08525\n",
      "[6]\ttrain-merror:0.08008\tvalidation-merror:0.08525\n",
      "[7]\ttrain-merror:0.08008\tvalidation-merror:0.08525\n",
      "[8]\ttrain-merror:0.08008\tvalidation-merror:0.08525\n",
      "[9]\ttrain-merror:0.08008\tvalidation-merror:0.08525\n",
      "[10]\ttrain-merror:0.08008\tvalidation-merror:0.08525\n",
      "[11]\ttrain-merror:0.08008\tvalidation-merror:0.08525\n",
      "[12]\ttrain-merror:0.08008\tvalidation-merror:0.08525\n",
      "[13]\ttrain-merror:0.08008\tvalidation-merror:0.08525\n",
      "[14]\ttrain-merror:0.08008\tvalidation-merror:0.08525\n",
      "[15]\ttrain-merror:0.08008\tvalidation-merror:0.08525\n",
      "[16]\ttrain-merror:0.08008\tvalidation-merror:0.08525\n",
      "[17]\ttrain-merror:0.08008\tvalidation-merror:0.08525\n",
      "[18]\ttrain-merror:0.08008\tvalidation-merror:0.08525\n",
      "[19]\ttrain-merror:0.08008\tvalidation-merror:0.08525\n",
      "[20]\ttrain-merror:0.08008\tvalidation-merror:0.08525\n",
      "[21]\ttrain-merror:0.08008\tvalidation-merror:0.08525\n",
      "[22]\ttrain-merror:0.08008\tvalidation-merror:0.08525\n",
      "[23]\ttrain-merror:0.08008\tvalidation-merror:0.08525\n",
      "[24]\ttrain-merror:0.08008\tvalidation-merror:0.08525\n",
      "[25]\ttrain-merror:0.08008\tvalidation-merror:0.08525\n",
      "[26]\ttrain-merror:0.08008\tvalidation-merror:0.08525\n",
      "[27]\ttrain-merror:0.08008\tvalidation-merror:0.08525\n",
      "[28]\ttrain-merror:0.08008\tvalidation-merror:0.08525\n",
      "[29]\ttrain-merror:0.08008\tvalidation-merror:0.08525\n",
      "[30]\ttrain-merror:0.08008\tvalidation-merror:0.08525\n",
      "[31]\ttrain-merror:0.08008\tvalidation-merror:0.08525\n",
      "[32]\ttrain-merror:0.08008\tvalidation-merror:0.08525\n",
      "[33]\ttrain-merror:0.08008\tvalidation-merror:0.08525\n",
      "[34]\ttrain-merror:0.08008\tvalidation-merror:0.08525\n",
      "[35]\ttrain-merror:0.08008\tvalidation-merror:0.08525\n",
      "[36]\ttrain-merror:0.08008\tvalidation-merror:0.08525\n",
      "[37]\ttrain-merror:0.08008\tvalidation-merror:0.08525\n",
      "[38]\ttrain-merror:0.08008\tvalidation-merror:0.08525\n",
      "[39]\ttrain-merror:0.08008\tvalidation-merror:0.08525\n",
      "[40]\ttrain-merror:0.08008\tvalidation-merror:0.08525\n",
      "[41]\ttrain-merror:0.08008\tvalidation-merror:0.08525\n",
      "[42]\ttrain-merror:0.08008\tvalidation-merror:0.08525\n",
      "[43]\ttrain-merror:0.08008\tvalidation-merror:0.08525\n",
      "[44]\ttrain-merror:0.08008\tvalidation-merror:0.08525\n",
      "[45]\ttrain-merror:0.08008\tvalidation-merror:0.08525\n",
      "[46]\ttrain-merror:0.08008\tvalidation-merror:0.08525\n",
      "[47]\ttrain-merror:0.08008\tvalidation-merror:0.08525\n",
      "[48]\ttrain-merror:0.08006\tvalidation-merror:0.08525\n",
      "[49]\ttrain-merror:0.08006\tvalidation-merror:0.08525\n"
     ]
    }
   ],
   "source": [
    "param_list = [(\"eta\", 0.08), \n",
    "              (\"max_depth\", 6),\n",
    "              (\"subsample\", 0.8), \n",
    "              (\"colsample_bytree\", 0.8), \n",
    "              (\"objective\", \"multi:softmax\"), \n",
    "              (\"eval_metric\", \"merror\"), \n",
    "              (\"alpha\", 8), \n",
    "              (\"lambda\", 2), \n",
    "              (\"num_class\", 10)]\n",
    "n_rounds = 50\n",
    "early_stopping = 50\n",
    "    \n",
    "d_train = xgb.DMatrix(train_data2, label=train_label2)\n",
    "d_val = xgb.DMatrix(valid_data, label=valid_label)\n",
    "eval_list = [(d_train, \"train\"), (d_val, \"validation\")]\n",
    "bst = xgb.train(param_list, d_train, n_rounds, evals=eval_list, early_stopping_rounds=early_stopping, verbose_eval=True)"
   ]
  },
  {
   "cell_type": "code",
   "execution_count": 12,
   "metadata": {},
   "outputs": [],
   "source": [
    "test_data1 = np.array(test_data)"
   ]
  },
  {
   "cell_type": "code",
   "execution_count": 13,
   "metadata": {},
   "outputs": [],
   "source": [
    "d_test = xgb.DMatrix(data=test_data1)\n",
    "y_pred = bst.predict(d_test)"
   ]
  },
  {
   "cell_type": "code",
   "execution_count": 14,
   "metadata": {},
   "outputs": [
    {
     "name": "stdout",
     "output_type": "stream",
     "text": [
      "Accuracy:  0.919\n"
     ]
    }
   ],
   "source": [
    "print(\"Accuracy: \", accuracy_score(test_label, y_pred))"
   ]
  },
  {
   "cell_type": "code",
   "execution_count": 15,
   "metadata": {},
   "outputs": [
    {
     "name": "stdout",
     "output_type": "stream",
     "text": [
      "0.919\n"
     ]
    }
   ],
   "source": [
    "count = 0\n",
    "for i in range(0, len(y_pred)):\n",
    "    if (y_pred[i] == test_label[i]):\n",
    "        count+=1\n",
    "print(count/len(y_pred))"
   ]
  },
  {
   "cell_type": "code",
   "execution_count": null,
   "metadata": {},
   "outputs": [],
   "source": []
  }
 ],
 "metadata": {
  "kernelspec": {
   "display_name": "Python 3",
   "language": "python",
   "name": "python3"
  },
  "language_info": {
   "codemirror_mode": {
    "name": "ipython",
    "version": 3
   },
   "file_extension": ".py",
   "mimetype": "text/x-python",
   "name": "python",
   "nbconvert_exporter": "python",
   "pygments_lexer": "ipython3",
   "version": "3.7.4"
  }
 },
 "nbformat": 4,
 "nbformat_minor": 2
}
