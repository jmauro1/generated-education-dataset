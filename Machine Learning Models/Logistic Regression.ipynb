{
 "cells": [
  {
   "cell_type": "code",
   "execution_count": 1,
   "metadata": {},
   "outputs": [],
   "source": [
    "import pandas as pd\n",
    "import numpy as np\n",
    "from scipy import stats\n",
    "from sklearn.model_selection import train_test_split\n",
    "from sklearn.linear_model import LogisticRegression\n",
    "from sklearn.preprocessing import OneHotEncoder\n",
    "from sklearn import metrics\n",
    "from sklearn.metrics import confusion_matrix\n",
    "import statsmodels.api as sm"
   ]
  },
  {
   "cell_type": "code",
   "execution_count": 2,
   "metadata": {},
   "outputs": [],
   "source": [
    "allStudents = pd.read_pickle(\"GeneratedData\")"
   ]
  },
  {
   "cell_type": "code",
   "execution_count": 3,
   "metadata": {},
   "outputs": [],
   "source": [
    "def categoricalVariableSplitter(df, colname):\n",
    "    onehotencoder = OneHotEncoder()\n",
    "    X = onehotencoder.fit_transform(df[colname].values.reshape(-1,1)).toarray()\n",
    "    dfOneHot = pd.DataFrame(X, columns = [colname+ \"_\" +str(int(i)) for i in range(len(df[colname].unique()))]) \n",
    "    df = pd.concat([df, dfOneHot], axis=1)\n",
    "    df = df.drop([colname], axis=1) \n",
    "    return df\n",
    "\n",
    "#Makes different columns for each categorical variable for all of the categorical variables in the dataset"
   ]
  },
  {
   "cell_type": "code",
   "execution_count": 4,
   "metadata": {},
   "outputs": [],
   "source": [
    "data = allStudents\n",
    "columns = [\"Gender\", \"Race\"]\n",
    "for col in columns:\n",
    "    data = categoricalVariableSplitter(data, col)"
   ]
  },
  {
   "cell_type": "code",
   "execution_count": 5,
   "metadata": {},
   "outputs": [],
   "source": [
    "data['Const'] = 1"
   ]
  },
  {
   "cell_type": "code",
   "execution_count": 6,
   "metadata": {},
   "outputs": [
    {
     "data": {
      "text/html": [
       "<div>\n",
       "<style scoped>\n",
       "    .dataframe tbody tr th:only-of-type {\n",
       "        vertical-align: middle;\n",
       "    }\n",
       "\n",
       "    .dataframe tbody tr th {\n",
       "        vertical-align: top;\n",
       "    }\n",
       "\n",
       "    .dataframe thead th {\n",
       "        text-align: right;\n",
       "    }\n",
       "</style>\n",
       "<table border=\"1\" class=\"dataframe\">\n",
       "  <thead>\n",
       "    <tr style=\"text-align: right;\">\n",
       "      <th></th>\n",
       "      <th>SES</th>\n",
       "      <th>GPA</th>\n",
       "      <th>SAT</th>\n",
       "      <th>Random Acceptance</th>\n",
       "      <th>Partial Logistic Acceptance</th>\n",
       "      <th>Complete Logistic Acceptance</th>\n",
       "      <th>Gender_0</th>\n",
       "      <th>Gender_1</th>\n",
       "      <th>Race_0</th>\n",
       "      <th>Race_1</th>\n",
       "      <th>Race_2</th>\n",
       "      <th>Race_3</th>\n",
       "      <th>Race_4</th>\n",
       "      <th>Const</th>\n",
       "    </tr>\n",
       "  </thead>\n",
       "  <tbody>\n",
       "    <tr>\n",
       "      <th>0</th>\n",
       "      <td>497796</td>\n",
       "      <td>3.54</td>\n",
       "      <td>1884</td>\n",
       "      <td>0</td>\n",
       "      <td>1</td>\n",
       "      <td>0</td>\n",
       "      <td>0.0</td>\n",
       "      <td>1.0</td>\n",
       "      <td>1.0</td>\n",
       "      <td>0.0</td>\n",
       "      <td>0.0</td>\n",
       "      <td>0.0</td>\n",
       "      <td>0.0</td>\n",
       "      <td>1</td>\n",
       "    </tr>\n",
       "    <tr>\n",
       "      <th>1</th>\n",
       "      <td>623523</td>\n",
       "      <td>3.11</td>\n",
       "      <td>1231</td>\n",
       "      <td>0</td>\n",
       "      <td>0</td>\n",
       "      <td>1</td>\n",
       "      <td>1.0</td>\n",
       "      <td>0.0</td>\n",
       "      <td>0.0</td>\n",
       "      <td>0.0</td>\n",
       "      <td>1.0</td>\n",
       "      <td>0.0</td>\n",
       "      <td>0.0</td>\n",
       "      <td>1</td>\n",
       "    </tr>\n",
       "    <tr>\n",
       "      <th>2</th>\n",
       "      <td>590253</td>\n",
       "      <td>3.3</td>\n",
       "      <td>772</td>\n",
       "      <td>1</td>\n",
       "      <td>0</td>\n",
       "      <td>1</td>\n",
       "      <td>1.0</td>\n",
       "      <td>0.0</td>\n",
       "      <td>0.0</td>\n",
       "      <td>0.0</td>\n",
       "      <td>1.0</td>\n",
       "      <td>0.0</td>\n",
       "      <td>0.0</td>\n",
       "      <td>1</td>\n",
       "    </tr>\n",
       "    <tr>\n",
       "      <th>3</th>\n",
       "      <td>640081</td>\n",
       "      <td>2.93</td>\n",
       "      <td>1190</td>\n",
       "      <td>0</td>\n",
       "      <td>0</td>\n",
       "      <td>1</td>\n",
       "      <td>0.0</td>\n",
       "      <td>1.0</td>\n",
       "      <td>0.0</td>\n",
       "      <td>0.0</td>\n",
       "      <td>1.0</td>\n",
       "      <td>0.0</td>\n",
       "      <td>0.0</td>\n",
       "      <td>1</td>\n",
       "    </tr>\n",
       "    <tr>\n",
       "      <th>4</th>\n",
       "      <td>769626</td>\n",
       "      <td>4.66</td>\n",
       "      <td>1651</td>\n",
       "      <td>0</td>\n",
       "      <td>0</td>\n",
       "      <td>1</td>\n",
       "      <td>0.0</td>\n",
       "      <td>1.0</td>\n",
       "      <td>1.0</td>\n",
       "      <td>0.0</td>\n",
       "      <td>0.0</td>\n",
       "      <td>0.0</td>\n",
       "      <td>0.0</td>\n",
       "      <td>1</td>\n",
       "    </tr>\n",
       "    <tr>\n",
       "      <th>...</th>\n",
       "      <td>...</td>\n",
       "      <td>...</td>\n",
       "      <td>...</td>\n",
       "      <td>...</td>\n",
       "      <td>...</td>\n",
       "      <td>...</td>\n",
       "      <td>...</td>\n",
       "      <td>...</td>\n",
       "      <td>...</td>\n",
       "      <td>...</td>\n",
       "      <td>...</td>\n",
       "      <td>...</td>\n",
       "      <td>...</td>\n",
       "      <td>...</td>\n",
       "    </tr>\n",
       "    <tr>\n",
       "      <th>49995</th>\n",
       "      <td>634137</td>\n",
       "      <td>3.59</td>\n",
       "      <td>1319</td>\n",
       "      <td>1</td>\n",
       "      <td>0</td>\n",
       "      <td>1</td>\n",
       "      <td>1.0</td>\n",
       "      <td>0.0</td>\n",
       "      <td>0.0</td>\n",
       "      <td>0.0</td>\n",
       "      <td>1.0</td>\n",
       "      <td>0.0</td>\n",
       "      <td>0.0</td>\n",
       "      <td>1</td>\n",
       "    </tr>\n",
       "    <tr>\n",
       "      <th>49996</th>\n",
       "      <td>658583</td>\n",
       "      <td>3.07</td>\n",
       "      <td>773</td>\n",
       "      <td>0</td>\n",
       "      <td>0</td>\n",
       "      <td>1</td>\n",
       "      <td>0.0</td>\n",
       "      <td>1.0</td>\n",
       "      <td>0.0</td>\n",
       "      <td>0.0</td>\n",
       "      <td>1.0</td>\n",
       "      <td>0.0</td>\n",
       "      <td>0.0</td>\n",
       "      <td>1</td>\n",
       "    </tr>\n",
       "    <tr>\n",
       "      <th>49997</th>\n",
       "      <td>391683</td>\n",
       "      <td>4.16</td>\n",
       "      <td>1260</td>\n",
       "      <td>0</td>\n",
       "      <td>1</td>\n",
       "      <td>0</td>\n",
       "      <td>0.0</td>\n",
       "      <td>1.0</td>\n",
       "      <td>1.0</td>\n",
       "      <td>0.0</td>\n",
       "      <td>0.0</td>\n",
       "      <td>0.0</td>\n",
       "      <td>0.0</td>\n",
       "      <td>1</td>\n",
       "    </tr>\n",
       "    <tr>\n",
       "      <th>49998</th>\n",
       "      <td>722668</td>\n",
       "      <td>3.01</td>\n",
       "      <td>2113</td>\n",
       "      <td>0</td>\n",
       "      <td>0</td>\n",
       "      <td>1</td>\n",
       "      <td>0.0</td>\n",
       "      <td>1.0</td>\n",
       "      <td>1.0</td>\n",
       "      <td>0.0</td>\n",
       "      <td>0.0</td>\n",
       "      <td>0.0</td>\n",
       "      <td>0.0</td>\n",
       "      <td>1</td>\n",
       "    </tr>\n",
       "    <tr>\n",
       "      <th>49999</th>\n",
       "      <td>579072</td>\n",
       "      <td>3.2</td>\n",
       "      <td>1311</td>\n",
       "      <td>1</td>\n",
       "      <td>0</td>\n",
       "      <td>1</td>\n",
       "      <td>1.0</td>\n",
       "      <td>0.0</td>\n",
       "      <td>0.0</td>\n",
       "      <td>0.0</td>\n",
       "      <td>1.0</td>\n",
       "      <td>0.0</td>\n",
       "      <td>0.0</td>\n",
       "      <td>1</td>\n",
       "    </tr>\n",
       "  </tbody>\n",
       "</table>\n",
       "<p>50000 rows × 14 columns</p>\n",
       "</div>"
      ],
      "text/plain": [
       "          SES   GPA   SAT Random Acceptance Partial Logistic Acceptance  \\\n",
       "0      497796  3.54  1884                 0                           1   \n",
       "1      623523  3.11  1231                 0                           0   \n",
       "2      590253   3.3   772                 1                           0   \n",
       "3      640081  2.93  1190                 0                           0   \n",
       "4      769626  4.66  1651                 0                           0   \n",
       "...       ...   ...   ...               ...                         ...   \n",
       "49995  634137  3.59  1319                 1                           0   \n",
       "49996  658583  3.07   773                 0                           0   \n",
       "49997  391683  4.16  1260                 0                           1   \n",
       "49998  722668  3.01  2113                 0                           0   \n",
       "49999  579072   3.2  1311                 1                           0   \n",
       "\n",
       "      Complete Logistic Acceptance  Gender_0  Gender_1  Race_0  Race_1  \\\n",
       "0                                0       0.0       1.0     1.0     0.0   \n",
       "1                                1       1.0       0.0     0.0     0.0   \n",
       "2                                1       1.0       0.0     0.0     0.0   \n",
       "3                                1       0.0       1.0     0.0     0.0   \n",
       "4                                1       0.0       1.0     1.0     0.0   \n",
       "...                            ...       ...       ...     ...     ...   \n",
       "49995                            1       1.0       0.0     0.0     0.0   \n",
       "49996                            1       0.0       1.0     0.0     0.0   \n",
       "49997                            0       0.0       1.0     1.0     0.0   \n",
       "49998                            1       0.0       1.0     1.0     0.0   \n",
       "49999                            1       1.0       0.0     0.0     0.0   \n",
       "\n",
       "       Race_2  Race_3  Race_4  Const  \n",
       "0         0.0     0.0     0.0      1  \n",
       "1         1.0     0.0     0.0      1  \n",
       "2         1.0     0.0     0.0      1  \n",
       "3         1.0     0.0     0.0      1  \n",
       "4         0.0     0.0     0.0      1  \n",
       "...       ...     ...     ...    ...  \n",
       "49995     1.0     0.0     0.0      1  \n",
       "49996     1.0     0.0     0.0      1  \n",
       "49997     0.0     0.0     0.0      1  \n",
       "49998     0.0     0.0     0.0      1  \n",
       "49999     1.0     0.0     0.0      1  \n",
       "\n",
       "[50000 rows x 14 columns]"
      ]
     },
     "execution_count": 6,
     "metadata": {},
     "output_type": "execute_result"
    }
   ],
   "source": [
    "data"
   ]
  },
  {
   "cell_type": "code",
   "execution_count": 7,
   "metadata": {},
   "outputs": [],
   "source": [
    "independent_variables = [\n",
    " 'Const',\n",
    " 'GPA',\n",
    " 'SES',\n",
    " 'SAT',\n",
    " 'Gender_1',\n",
    " 'Race_1',\n",
    " 'Race_2',\n",
    " 'Race_3',\n",
    " 'Race_4'\n",
    "]\n",
    "X = data[independent_variables]\n",
    "y1 = np.array(data[\"Random Acceptance\"])\n",
    "y1 = y1.astype('int')\n",
    "y2 = np.array(data[\"Partial Logistic Acceptance\"])\n",
    "y2 = y2.astype('int')\n",
    "y3 = np.array(data[\"Complete Logistic Acceptance\"])\n",
    "y3 = y3.astype('int')"
   ]
  },
  {
   "cell_type": "code",
   "execution_count": 8,
   "metadata": {},
   "outputs": [],
   "source": [
    "X_train, X_test, y_train1, y_test1, y_train2, y_test2, y_train3, y_test3 = train_test_split(X,y1,y2,y3, test_size = .2, random_state=3)\n",
    "#Splits the dataset into a test and training set -- 80% train and 20% test"
   ]
  },
  {
   "cell_type": "markdown",
   "metadata": {},
   "source": [
    "Random Acceptance"
   ]
  },
  {
   "cell_type": "code",
   "execution_count": 9,
   "metadata": {},
   "outputs": [],
   "source": [
    "log_reg = LogisticRegression(solver='lbfgs', max_iter = 10000)\n",
    "log_reg.fit(X_train,y_train1)\n",
    "y_pred = log_reg.predict(X_test)"
   ]
  },
  {
   "cell_type": "code",
   "execution_count": 10,
   "metadata": {},
   "outputs": [
    {
     "name": "stdout",
     "output_type": "stream",
     "text": [
      "[[5965    0]\n",
      " [4035    0]]\n",
      "[['Actual: 0 Predicted: 0' 'Actual: 0, Predicted: 1']\n",
      " ['Actual: 1 Predicted: 0' 'Actual: 1, Predicted: 1']]\n"
     ]
    }
   ],
   "source": [
    "cnf_matrix = metrics.confusion_matrix(y_test1, y_pred)\n",
    "print(cnf_matrix)\n",
    "confusion_key = [[\"Actual: 0 Predicted: 0\", \"Actual: 0, Predicted: 1\"],\n",
    "                 [\"Actual: 1 Predicted: 0\", \"Actual: 1, Predicted: 1\"]]\n",
    "confusion_key =  np.reshape(confusion_key, (2,2))\n",
    "print(confusion_key)"
   ]
  },
  {
   "cell_type": "code",
   "execution_count": 11,
   "metadata": {},
   "outputs": [
    {
     "name": "stdout",
     "output_type": "stream",
     "text": [
      "Accuracy: 0.5965\n",
      "Precision: 0.0\n",
      "Recall: 0.0\n"
     ]
    },
    {
     "name": "stderr",
     "output_type": "stream",
     "text": [
      "/Users/jackmauro/opt/anaconda3/lib/python3.7/site-packages/sklearn/metrics/_classification.py:1308: UndefinedMetricWarning: Precision is ill-defined and being set to 0.0 due to no predicted samples. Use `zero_division` parameter to control this behavior.\n",
      "  _warn_prf(average, modifier, msg_start, len(result))\n"
     ]
    }
   ],
   "source": [
    "print(\"Accuracy:\",metrics.accuracy_score(y_test1, y_pred))\n",
    "print(\"Precision:\",metrics.precision_score(y_test1, y_pred))\n",
    "print(\"Recall:\",metrics.recall_score(y_test1, y_pred))"
   ]
  },
  {
   "cell_type": "markdown",
   "metadata": {},
   "source": [
    "Partial Logistic Acceptance"
   ]
  },
  {
   "cell_type": "code",
   "execution_count": 12,
   "metadata": {},
   "outputs": [],
   "source": [
    "log_reg = LogisticRegression(solver='lbfgs', max_iter = 10000)\n",
    "log_reg.fit(X_train,y_train2)\n",
    "y_pred = log_reg.predict(X_test)"
   ]
  },
  {
   "cell_type": "code",
   "execution_count": 13,
   "metadata": {},
   "outputs": [
    {
     "name": "stdout",
     "output_type": "stream",
     "text": [
      "[[7325  223]\n",
      " [1597  855]]\n",
      "[['Actual: 0 Predicted: 0' 'Actual: 0, Predicted: 1']\n",
      " ['Actual: 1 Predicted: 0' 'Actual: 1, Predicted: 1']]\n"
     ]
    }
   ],
   "source": [
    "cnf_matrix = metrics.confusion_matrix(y_test2, y_pred)\n",
    "print(cnf_matrix)\n",
    "confusion_key = [[\"Actual: 0 Predicted: 0\", \"Actual: 0, Predicted: 1\"],\n",
    "                 [\"Actual: 1 Predicted: 0\", \"Actual: 1, Predicted: 1\"]]\n",
    "confusion_key =  np.reshape(confusion_key, (2,2))\n",
    "print(confusion_key)"
   ]
  },
  {
   "cell_type": "code",
   "execution_count": 14,
   "metadata": {},
   "outputs": [
    {
     "name": "stdout",
     "output_type": "stream",
     "text": [
      "Accuracy: 0.818\n",
      "Precision: 0.7931354359925789\n",
      "Recall: 0.348694942903752\n"
     ]
    }
   ],
   "source": [
    "print(\"Accuracy:\",metrics.accuracy_score(y_test2, y_pred))\n",
    "print(\"Precision:\",metrics.precision_score(y_test2, y_pred))\n",
    "print(\"Recall:\",metrics.recall_score(y_test2, y_pred))"
   ]
  },
  {
   "cell_type": "markdown",
   "metadata": {},
   "source": [
    "Complete Logistic Acceptance"
   ]
  },
  {
   "cell_type": "code",
   "execution_count": 15,
   "metadata": {},
   "outputs": [],
   "source": [
    "log_reg = LogisticRegression(solver='lbfgs', max_iter = 10000)\n",
    "log_reg.fit(X_train,y_train3)\n",
    "y_pred = log_reg.predict(X_test)"
   ]
  },
  {
   "cell_type": "code",
   "execution_count": 16,
   "metadata": {},
   "outputs": [
    {
     "name": "stdout",
     "output_type": "stream",
     "text": [
      "[[ 577 1735]\n",
      " [ 157 7531]]\n",
      "[['Actual: 0 Predicted: 0' 'Actual: 0, Predicted: 1']\n",
      " ['Actual: 1 Predicted: 0' 'Actual: 1, Predicted: 1']]\n"
     ]
    }
   ],
   "source": [
    "cnf_matrix = metrics.confusion_matrix(y_test3, y_pred)\n",
    "print(cnf_matrix)\n",
    "confusion_key = [[\"Actual: 0 Predicted: 0\", \"Actual: 0, Predicted: 1\"],\n",
    "                 [\"Actual: 1 Predicted: 0\", \"Actual: 1, Predicted: 1\"]]\n",
    "confusion_key =  np.reshape(confusion_key, (2,2))\n",
    "print(confusion_key)"
   ]
  },
  {
   "cell_type": "code",
   "execution_count": 17,
   "metadata": {},
   "outputs": [
    {
     "name": "stdout",
     "output_type": "stream",
     "text": [
      "Accuracy: 0.8108\n",
      "Precision: 0.812756313403842\n",
      "Recall: 0.9795785639958376\n"
     ]
    }
   ],
   "source": [
    "print(\"Accuracy:\",metrics.accuracy_score(y_test3, y_pred))\n",
    "print(\"Precision:\",metrics.precision_score(y_test3, y_pred))\n",
    "print(\"Recall:\",metrics.recall_score(y_test3, y_pred))"
   ]
  },
  {
   "cell_type": "code",
   "execution_count": 24,
   "metadata": {},
   "outputs": [],
   "source": [
    "# logit_model = sm.Logit(np.asarray(y_train3),X_train.astype(float))\n",
    "# result  = logit_model.fit()\n",
    "# print(result.summary())"
   ]
  },
  {
   "cell_type": "code",
   "execution_count": 19,
   "metadata": {},
   "outputs": [],
   "source": [
    "X_train.to_pickle(\"Student Training Data\")"
   ]
  },
  {
   "cell_type": "code",
   "execution_count": 20,
   "metadata": {},
   "outputs": [],
   "source": [
    "X_test.to_pickle(\"Student Testing Data\")"
   ]
  },
  {
   "cell_type": "code",
   "execution_count": 21,
   "metadata": {},
   "outputs": [],
   "source": [
    "np.save('Random Acceptance Student Training Label', y_train1)\n",
    "np.save('Random Acceptance Student Test Label', y_test1)\n",
    "\n",
    "np.save('Partial Logistic Acceptance Student Training Label', y_train2)\n",
    "np.save('Partial Logistic Acceptance Student Test Label', y_test2)\n",
    "\n",
    "np.save('Complete Logistic Acceptance Student Training Label', y_train3)\n",
    "np.save('Complete Logistic Acceptance Student Test Label', y_test3)"
   ]
  },
  {
   "cell_type": "code",
   "execution_count": null,
   "metadata": {},
   "outputs": [],
   "source": []
  }
 ],
 "metadata": {
  "kernelspec": {
   "display_name": "Python 3",
   "language": "python",
   "name": "python3"
  },
  "language_info": {
   "codemirror_mode": {
    "name": "ipython",
    "version": 3
   },
   "file_extension": ".py",
   "mimetype": "text/x-python",
   "name": "python",
   "nbconvert_exporter": "python",
   "pygments_lexer": "ipython3",
   "version": "3.7.4"
  }
 },
 "nbformat": 4,
 "nbformat_minor": 2
}
